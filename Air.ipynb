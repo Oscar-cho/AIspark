{
 "cells": [
  {
   "cell_type": "code",
   "execution_count": 1,
   "metadata": {},
   "outputs": [],
   "source": [
    "'''import necessary libraries'''\n",
    "import numpy as np\n",
    "import pandas as pd\n",
    "import torch\n",
    "import torch.nn as nn\n",
    "import torch.optim as optim\n",
    "import torchvision\n",
    "from pathlib import Path\n",
    "from torchvision import datasets, models, transforms\n",
    "import os"
   ]
  },
  {
   "cell_type": "code",
   "execution_count": 4,
   "metadata": {},
   "outputs": [],
   "source": [
    "'''basic arguments initialize'''\n",
    "args = {\n",
    "    'TRAIN' : './dataset',         # test용 PM 2.5 data\n",
    "    'TRAIN_AWS' : './dataset',     # 학습용 기상조건 data\n",
    "    'TEST_AWS' : './dataset',      # 평가용 기상조건 data\n",
    "    'TEST_INPUT' : './dataset',    # 평가용 PM 2.5 data\n",
    "    'META' : './dataset',          # PM 2.5 관측소 및 AWS 관측소 위치정보\n",
    "    'save_path' : 'dir지정하기',\n",
    "    'batch_size' : 32,\n",
    "    'epoch' : 30,\n",
    "    'lr' : 0.0001,\n",
    "}"
   ]
  },
  {
   "cell_type": "code",
   "execution_count": 5,
   "metadata": {},
   "outputs": [
    {
     "name": "stdout",
     "output_type": "stream",
     "text": [
      "Device setting :  cuda\n"
     ]
    }
   ],
   "source": [
    "'''Cude device with pytorch'''\n",
    "device = 'cuda' if torch.cuda.is_available() else 'cpu'\n",
    "\n",
    "print(\"Device setting : \", device)"
   ]
  },
  {
   "cell_type": "code",
   "execution_count": 23,
   "metadata": {},
   "outputs": [],
   "source": [
    "'''CSV data Merge'''\n",
    "def data_pd(args, data_type):\n",
    "    folders = os.listdir(Path(args[data_type]) / data_type)\n",
    "    data = pd.DataFrame()\n",
    "    \n",
    "    for i in folders:\n",
    "        path = args[data_type] + '/' + data_type + '/' + i\n",
    "        add = pd.read_csv(path, header = None)\n",
    "        data = pd.concat([data, add])\n",
    "        \n",
    "    return data"
   ]
  },
  {
   "cell_type": "code",
   "execution_count": 15,
   "metadata": {},
   "outputs": [],
   "source": [
    "TRAIN_list = data_pd(args, 'TRAIN')\n",
    "TRAIN_AWS_list = data_pd(args, 'TRAIN_AWS') \n",
    "TEST_INPUT_list = data_pd(args, 'TEST_INPUT') \n",
    "TEST_AWS_list = data_pd(args, 'TEST_AWS')\n",
    "META_list = data_pd(args, 'META')"
   ]
  },
  {
   "cell_type": "code",
   "execution_count": 16,
   "metadata": {},
   "outputs": [],
   "source": [
    "'''data loader func'''\n",
    "def load_data(args, data_type:str=\"Train, Test\"):\n",
    "    if data_type == \"TEST_AWS\" or data_type == \"TEST_INPUT\":\n",
    "        # Test data의 전처리\n",
    "        features = \"\"\n",
    "        label = \"\"\n",
    "    elif data_type == \"Train\" or data_type == \"TRAIN_AWS\":\n",
    "        # Train data의 전처리\n",
    "        features = \"\"\n",
    "        label = \"\"\n",
    "    else:\n",
    "        # META data의 전처리\n",
    "        features = \"\"\n",
    "        label = \"\"\n",
    "    return features, label"
   ]
  },
  {
   "cell_type": "code",
   "execution_count": null,
   "metadata": {},
   "outputs": [],
   "source": [
    "'''dataloader'''\n",
    "class Dataset:\n",
    "    def __init__(self):\n",
    "        temp = \"\"\n",
    "    \n",
    "    def __getitem__(self, idx):\n",
    "        temp = \"\"\n",
    "        \n",
    "    def __len__(self):\n",
    "        temp = \"\""
   ]
  },
  {
   "cell_type": "code",
   "execution_count": null,
   "metadata": {},
   "outputs": [],
   "source": [
    "'''model training'''\n",
    "def train_model(model, criterion, optimizer, scheduler, num_epoch):\n",
    "    hello = \"\""
   ]
  },
  {
   "cell_type": "code",
   "execution_count": null,
   "metadata": {},
   "outputs": [],
   "source": [
    "'''예시 모델은 CNN이지만 NLP 모델로 바꿔야할듯?'''\n",
    "class Model:\n",
    "    def __init__(self):\n",
    "        super(Model, self).__init__()\n",
    "\n",
    "    def forward(self, x):\n",
    "        return x\n",
    "    "
   ]
  },
  {
   "attachments": {},
   "cell_type": "markdown",
   "metadata": {},
   "source": [
    "# Time Series Model"
   ]
  },
  {
   "cell_type": "code",
   "execution_count": null,
   "metadata": {},
   "outputs": [],
   "source": [
    "df1 = pd.read_csv('.csv')  # train csv 파일 df로 변환\n",
    "df2 = pd.read_csv('.csv')  # train_AWS 파일 \n"
   ]
  }
 ],
 "metadata": {
  "kernelspec": {
   "display_name": "Python 3",
   "language": "python",
   "name": "python3"
  },
  "language_info": {
   "codemirror_mode": {
    "name": "ipython",
    "version": 3
   },
   "file_extension": ".py",
   "mimetype": "text/x-python",
   "name": "python",
   "nbconvert_exporter": "python",
   "pygments_lexer": "ipython3",
   "version": "3.10.9"
  },
  "orig_nbformat": 4
 },
 "nbformat": 4,
 "nbformat_minor": 2
}
